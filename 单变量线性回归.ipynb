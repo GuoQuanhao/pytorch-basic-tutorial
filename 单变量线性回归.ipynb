{
 "cells": [
  {
   "cell_type": "markdown",
   "metadata": {},
   "source": [
    "# 前情函数"
   ]
  },
  {
   "cell_type": "code",
   "execution_count": 1,
   "metadata": {},
   "outputs": [],
   "source": [
    "import torch"
   ]
  },
  {
   "cell_type": "markdown",
   "metadata": {},
   "source": [
    "## GPU相关语句"
   ]
  },
  {
   "cell_type": "code",
   "execution_count": 2,
   "metadata": {},
   "outputs": [
    {
     "name": "stdout",
     "output_type": "stream",
     "text": [
      "1 GeForce GTX 960M 0\n"
     ]
    }
   ],
   "source": [
    "'''以下通过先判断GPU是否存在，\n",
    "   在通过对应的语句打印出GPU的信息\n",
    "'''\n",
    "\n",
    "if torch.cuda.is_available():\n",
    "    # 返回gpu数量\n",
    "    GPU_num = torch.cuda.device_count()\n",
    "    # 返回gpu名字，设备索引默认从0开始\n",
    "    GPU_name = torch.cuda.get_device_name(0)\n",
    "    # 返回当前设备索引\n",
    "    GPU_index = torch.cuda.current_device()\n",
    "    print(GPU_num, GPU_name, GPU_index)\n",
    "else:\n",
    "    print('Use CPU for work')"
   ]
  },
  {
   "cell_type": "markdown",
   "metadata": {},
   "source": [
    "下面语句用于将模型放在GPU上训练"
   ]
  },
  {
   "cell_type": "code",
   "execution_count": 3,
   "metadata": {},
   "outputs": [
    {
     "data": {
      "text/plain": [
       "device(type='cuda', index=0)"
      ]
     },
     "execution_count": 3,
     "metadata": {},
     "output_type": "execute_result"
    }
   ],
   "source": [
    "device = torch.device(\"cuda:0\" if torch.cuda.is_available() else \"cpu\")\n",
    "\n",
    "device"
   ]
  },
  {
   "cell_type": "markdown",
   "metadata": {},
   "source": [
    "## torch.unsqueeze 与 torch.squeeze "
   ]
  },
  {
   "cell_type": "markdown",
   "metadata": {},
   "source": [
    "torch.unsqueeze(input, dim) → Tensor  \n",
    "\n",
    "&ensp;&ensp;&ensp;&ensp;返回插入指定位置尺寸为1的新张量\n",
    "\n",
    "&ensp;&ensp;&ensp;&ensp;返回的张量与此张量共享相同的基础数据\n",
    "\n",
    "&ensp;&ensp;&ensp;&ensp;可以通过`dim`控制指定的轴向\n",
    "\n",
    "这个函数主要是对数据维度进行扩充。给指定位置加上维数为1的维度"
   ]
  },
  {
   "cell_type": "code",
   "execution_count": 4,
   "metadata": {},
   "outputs": [
    {
     "name": "stdout",
     "output_type": "stream",
     "text": [
      "x0 维度: torch.Size([4]) \n",
      " tensor([1, 2, 3, 4])\n",
      "x1 维度: torch.Size([1, 4]) \n",
      " tensor([[1, 2, 3, 4]])\n",
      "x2 维度: torch.Size([4, 1]) \n",
      " tensor([[1],\n",
      "        [2],\n",
      "        [3],\n",
      "        [4]])\n"
     ]
    }
   ],
   "source": [
    "x0 = torch.tensor([1, 2, 3, 4])\n",
    "print('x0 维度:', x0.size(),'\\n', x0)\n",
    "\n",
    "x1 = torch.unsqueeze(x0, 0)\n",
    "print('x1 维度:', x1.size(),'\\n', x1)\n",
    "\n",
    "x2 = torch.unsqueeze(x0, 1)\n",
    "print('x2 维度:', x2.size(),'\\n', x2)"
   ]
  },
  {
   "cell_type": "markdown",
   "metadata": {},
   "source": [
    "torch.squeeze(input, dim=None, out=None) → Tensor\n",
    "\n",
    "&ensp;&ensp;&ensp;&ensp;移除输入张量维度为1的轴\n",
    "\n",
    "&ensp;&ensp;&ensp;&ensp;例如输入张量的shape为: $(A \\times 1 \\times B \\times C \\times 1 \\times D)$输出张量的shape则为:$(A \\times B \\times C \\times D)$\n",
    "\n",
    "&ensp;&ensp;&ensp;&ensp;可以通过`dim`控制指定的轴向，例如输入张量的shape为: $(A \\times 1 \\times B)$，通过`squeeze(input, 1)`，输出张量的shape为: $(A \\times B)$\n",
    "\n",
    "\n",
    "这个函数主要对数据的维度进行压缩，去掉维数为1的的维度"
   ]
  },
  {
   "cell_type": "code",
   "execution_count": 5,
   "metadata": {},
   "outputs": [
    {
     "name": "stdout",
     "output_type": "stream",
     "text": [
      "x0 维度: torch.Size([2, 1, 2, 1, 2])\n",
      "x1 维度: torch.Size([2, 2, 2])\n",
      "x2 维度: torch.Size([2, 1, 2, 1, 2])\n",
      "x3 维度: torch.Size([2, 2, 1, 2])\n"
     ]
    }
   ],
   "source": [
    "x0 = torch.zeros(2, 1, 2, 1, 2)\n",
    "print('x0 维度:', x0.size())\n",
    "\n",
    "x1 = torch.squeeze(x0)\n",
    "print('x1 维度:', x1.size())\n",
    "\n",
    "x2 = torch.squeeze(x0, 0)\n",
    "print('x2 维度:', x2.size())\n",
    "\n",
    "x3 = torch.squeeze(x0, 1)\n",
    "print('x3 维度:', x3.size())"
   ]
  },
  {
   "cell_type": "markdown",
   "metadata": {},
   "source": [
    "# 正式开始"
   ]
  },
  {
   "cell_type": "markdown",
   "metadata": {},
   "source": [
    "## 导入必要模块  \n",
    "安装`pytorch`时，不会安装`torchsummary`，需要手动通过`!pip install torchsummary`安装，如果不在`jupyter`中，则去掉感叹号进行安装"
   ]
  },
  {
   "cell_type": "code",
   "execution_count": 6,
   "metadata": {},
   "outputs": [],
   "source": [
    "%matplotlib inline"
   ]
  },
  {
   "cell_type": "code",
   "execution_count": 7,
   "metadata": {},
   "outputs": [
    {
     "data": {
      "text/plain": [
       "'1.6.0'"
      ]
     },
     "execution_count": 7,
     "metadata": {},
     "output_type": "execute_result"
    }
   ],
   "source": [
    "import torch\n",
    "from torchsummary import summary\n",
    "import torch.nn.functional as F\n",
    "import matplotlib.pyplot as plt\n",
    "import pylab as pl\n",
    "from IPython import display\n",
    "\n",
    "torch.__version__"
   ]
  },
  {
   "cell_type": "markdown",
   "metadata": {},
   "source": [
    "## 构建数据集  \n",
    "本案例中将以一个正弦函数$y=sin(x)$为例"
   ]
  },
  {
   "cell_type": "markdown",
   "metadata": {},
   "source": [
    "如果使用多个GPU，应该使用`torch.cuda.manual_seed_all()`为所有的GPU设置种子。"
   ]
  },
  {
   "cell_type": "code",
   "execution_count": 8,
   "metadata": {},
   "outputs": [
    {
     "name": "stdout",
     "output_type": "stream",
     "text": [
      "GPU is available\n"
     ]
    }
   ],
   "source": [
    "if torch.cuda.is_available():\n",
    "    torch.cuda.manual_seed(1) #为当前GPU设置随机种子用于生成随机数，以使得结果是确定的\n",
    "    print('GPU is available')\n",
    "else:\n",
    "    torch.manual_seed(1)      #为CPU设置随机种子用于生成随机数，以使得结果是确定的\n",
    "    print('Use CPU for work')"
   ]
  },
  {
   "cell_type": "markdown",
   "metadata": {},
   "source": [
    "`squeeze`是删除维度为1的轴，`unsqueeze`则是增加一个维度为1的轴，通过`dim`控制增加轴的方向，其中可以通过`x.size()`获取`x`的维度为`torch.Size([100, 1])`"
   ]
  },
  {
   "cell_type": "code",
   "execution_count": 9,
   "metadata": {},
   "outputs": [],
   "source": [
    "import math\n",
    "\n",
    "PI = math.pi\n",
    "\n",
    "x = torch.unsqueeze(torch.linspace(-PI, PI, 200), dim=1)\n",
    "\n",
    "y = torch.sin(x) + 0.07 * torch.randn(x.size())"
   ]
  },
  {
   "cell_type": "code",
   "execution_count": 10,
   "metadata": {},
   "outputs": [
    {
     "data": {
      "image/png": "[encoded data removed]",
      "text/plain": [
       "<Figure size 432x288 with 1 Axes>"
      ]
     },
     "metadata": {
      "needs_background": "light"
     },
     "output_type": "display_data"
    }
   ],
   "source": [
    "plt.plot(x, torch.sin(x).numpy(), color='r', label='GroundTruth')\n",
    "plt.scatter(x.numpy(), y.numpy(), s=10, color='b', label='Dataset')\n",
    "plt.legend()\n",
    "plt.show()"
   ]
  },
  {
   "cell_type": "markdown",
   "metadata": {},
   "source": [
    "## 模型定义  \n",
    "采用`relu`激活函数，单隐层神经网络结构"
   ]
  },
  {
   "cell_type": "code",
   "execution_count": 11,
   "metadata": {},
   "outputs": [],
   "source": [
    "class Net(torch.nn.Module):\n",
    "    def __init__(self, n_feature, n_hidden, n_output):\n",
    "        super(Net, self).__init__()\n",
    "        self.hidden = torch.nn.Linear(n_feature, n_hidden)\n",
    "        self.predict = torch.nn.Linear(n_hidden, n_output)\n",
    "\n",
    "    def forward(self, x):\n",
    "        x = F.relu(self.hidden(x))\n",
    "        x = self.predict(x)\n",
    "        return x"
   ]
  },
  {
   "cell_type": "markdown",
   "metadata": {},
   "source": [
    "开启GPU模式并查看网络摘要`summary`"
   ]
  },
  {
   "cell_type": "code",
   "execution_count": 12,
   "metadata": {},
   "outputs": [
    {
     "name": "stdout",
     "output_type": "stream",
     "text": [
      "----------------------------------------------------------------\n",
      "        Layer (type)               Output Shape         Param #\n",
      "================================================================\n",
      "            Linear-1                   [-1, 10]              20\n",
      "            Linear-2                    [-1, 1]              11\n",
      "================================================================\n",
      "Total params: 31\n",
      "Trainable params: 31\n",
      "Non-trainable params: 0\n",
      "----------------------------------------------------------------\n",
      "Input size (MB): 0.00\n",
      "Forward/backward pass size (MB): 0.00\n",
      "Params size (MB): 0.00\n",
      "Estimated Total Size (MB): 0.00\n",
      "----------------------------------------------------------------\n"
     ]
    }
   ],
   "source": [
    "net = Net(n_feature=1, n_hidden=10, n_output=1).to(device)\n",
    "\n",
    "summary(net, input_size=(1,))"
   ]
  },
  {
   "cell_type": "markdown",
   "metadata": {},
   "source": [
    "## 模型参数设置  \n",
    "优化器以及损失函数设置"
   ]
  },
  {
   "cell_type": "code",
   "execution_count": 13,
   "metadata": {},
   "outputs": [],
   "source": [
    "optimizer = torch.optim.Adam(net.parameters(), lr=0.02)\n",
    "\n",
    "loss_func = torch.nn.MSELoss()"
   ]
  },
  {
   "cell_type": "markdown",
   "metadata": {},
   "source": [
    "将数据拷贝至GPU"
   ]
  },
  {
   "cell_type": "code",
   "execution_count": 14,
   "metadata": {},
   "outputs": [],
   "source": [
    "x_data, y_data = x.to(device), y.to(device)"
   ]
  },
  {
   "cell_type": "markdown",
   "metadata": {},
   "source": [
    "Pytorch参数重置，避免调参后重新运行for循环时，原始已训练参数进行保留"
   ]
  },
  {
   "cell_type": "code",
   "execution_count": 15,
   "metadata": {},
   "outputs": [],
   "source": [
    "def weight_reset(m):\n",
    "    if isinstance(m, torch.nn.Conv2d) or isinstance(m, torch.nn.Linear):\n",
    "        m.reset_parameters()"
   ]
  },
  {
   "cell_type": "code",
   "execution_count": 16,
   "metadata": {},
   "outputs": [
    {
     "name": "stdout",
     "output_type": "stream",
     "text": [
      "Wall time: 31.3 s\n"
     ]
    },
    {
     "data": {
      "image/png": "[encoded data removed]",
      "text/plain": [
       "<Figure size 432x288 with 1 Axes>"
      ]
     },
     "metadata": {
      "needs_background": "light"
     },
     "output_type": "display_data"
    }
   ],
   "source": [
    "%%time\n",
    "\n",
    "net.apply(weight_reset)\n",
    "\n",
    "loss_value = []\n",
    "\n",
    "for i in range(1000):\n",
    "    prediction = net(x_data)\n",
    "    \n",
    "    loss = loss_func(prediction, y_data)\n",
    "\n",
    "    optimizer.zero_grad()\n",
    "    loss.backward()\n",
    "    optimizer.step()\n",
    "    loss_value.append(loss.cpu().detach().numpy())\n",
    "\n",
    "    if i % 10 == 0:\n",
    "        pl.axis([-4, 4, -2, 2]) \n",
    "        pl.clf()\n",
    "        pl.scatter(x.numpy(), y.numpy(), s=5)\n",
    "        pl.plot(x.numpy(), torch.sin(x).numpy(), 'g', lw=2, label='GroundTruth')\n",
    "        pl.plot(x.numpy(), prediction.cpu().detach().numpy(), 'r-', lw=2, label='Prediction')\n",
    "        pl.text(1.0, -1.0, 'Loss=%.4f' % loss.cpu().detach().numpy(), fontdict={'size': 15, 'color':  'red'})\n",
    "        pl.legend()\n",
    "        display.display(pl.gcf())\n",
    "        display.clear_output(wait=True)"
   ]
  },
  {
   "cell_type": "markdown",
   "metadata": {},
   "source": [
    "损失值可视化"
   ]
  },
  {
   "cell_type": "code",
   "execution_count": 17,
   "metadata": {},
   "outputs": [
    {
     "data": {
      "image/png": "[encoded data removed]",
      "text/plain": [
       "<Figure size 432x288 with 1 Axes>"
      ]
     },
     "metadata": {
      "needs_background": "light"
     },
     "output_type": "display_data"
    }
   ],
   "source": [
    "pl.plot([i for i in range(len(loss_value))], loss_value, label='model line', color='r')\n",
    "pl.legend()\n",
    "pl.show()"
   ]
  }
 ],
 "metadata": {
  "kernelspec": {
   "display_name": "pytorch1.6.0",
   "language": "python",
   "name": "pytorch1.6.0"
  },
  "language_info": {
   "codemirror_mode": {
    "name": "ipython",
    "version": 3
   },
   "file_extension": ".py",
   "mimetype": "text/x-python",
   "name": "python",
   "nbconvert_exporter": "python",
   "pygments_lexer": "ipython3",
   "version": "3.6.2"
  },
  "toc": {
   "base_numbering": 1,
   "nav_menu": {},
   "number_sections": true,
   "sideBar": true,
   "skip_h1_title": false,
   "title_cell": "Table of Contents",
   "title_sidebar": "Contents",
   "toc_cell": false,
   "toc_position": {
    "height": "calc(100% - 180px)",
    "left": "10px",
    "top": "150px",
    "width": "303.2px"
   },
   "toc_section_display": true,
   "toc_window_display": true
  }
 },
 "nbformat": 4,
 "nbformat_minor": 4
}
