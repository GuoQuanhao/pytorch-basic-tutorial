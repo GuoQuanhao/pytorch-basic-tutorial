{
 "cells": [
  {
   "cell_type": "markdown",
   "metadata": {},
   "source": [
    "## 导入必要的包"
   ]
  },
  {
   "cell_type": "code",
   "execution_count": 1,
   "metadata": {},
   "outputs": [
    {
     "data": {
      "text/plain": [
       "'1.6.0'"
      ]
     },
     "execution_count": 1,
     "metadata": {},
     "output_type": "execute_result"
    }
   ],
   "source": [
    "import torch\n",
    "from torch import nn\n",
    "import matplotlib.pyplot as plt\n",
    "import numpy as np\n",
    "import pandas as pd\n",
    "from sklearn.utils import shuffle\n",
    "from sklearn.preprocessing import scale\n",
    "from torchsummary import summary\n",
    "from matplotlib.font_manager import FontProperties\n",
    "\n",
    "torch.__version__"
   ]
  },
  {
   "cell_type": "markdown",
   "metadata": {},
   "source": [
    "## 数据读取  \n",
    "本次数据读取将采用两种方式进行，一种是从原始的`housing.csv`文件进行读取，一种是利用`sklearn`集成的数据读取方式进行读取"
   ]
  },
  {
   "cell_type": "markdown",
   "metadata": {},
   "source": [
    "### 从原始数据读取房价信息"
   ]
  },
  {
   "cell_type": "code",
   "execution_count": 2,
   "metadata": {},
   "outputs": [],
   "source": [
    "data_frame = pd.read_csv('./boston/housing.csv', header=None)"
   ]
  },
  {
   "cell_type": "markdown",
   "metadata": {},
   "source": [
    "原始的`housing.csv`将一行数据存储在一个单元格中，因此需要读取此单元格并将里面的内容从字符串转变为`float`类型"
   ]
  },
  {
   "cell_type": "code",
   "execution_count": 3,
   "metadata": {},
   "outputs": [],
   "source": [
    "all_data = []\n",
    "\n",
    "for column in range(len(data_frame)):\n",
    "    column_data = []\n",
    "    for data in list(data_frame.iloc[column])[0].split(' '):\n",
    "        if data != '':\n",
    "            column_data.append(float(data))\n",
    "    all_data.append(column_data)\n",
    "\n",
    "all_data = np.array(all_data)"
   ]
  },
  {
   "cell_type": "markdown",
   "metadata": {},
   "source": [
    "划分训练数据与标签数据`(GroundTruth)`"
   ]
  },
  {
   "cell_type": "code",
   "execution_count": 4,
   "metadata": {},
   "outputs": [],
   "source": [
    "x_data = all_data[:, :13]\n",
    "y_data = all_data[:, 13]"
   ]
  },
  {
   "cell_type": "markdown",
   "metadata": {},
   "source": [
    "查看部分数据"
   ]
  },
  {
   "cell_type": "code",
   "execution_count": 5,
   "metadata": {},
   "outputs": [
    {
     "name": "stdout",
     "output_type": "stream",
     "text": [
      "x_data:\n",
      " [[6.3200e-03 1.8000e+01 2.3100e+00 ... 1.5300e+01 3.9690e+02 4.9800e+00]\n",
      " [2.7310e-02 0.0000e+00 7.0700e+00 ... 1.7800e+01 3.9690e+02 9.1400e+00]\n",
      " [2.7290e-02 0.0000e+00 7.0700e+00 ... 1.7800e+01 3.9283e+02 4.0300e+00]\n",
      " ...\n",
      " [6.0760e-02 0.0000e+00 1.1930e+01 ... 2.1000e+01 3.9690e+02 5.6400e+00]\n",
      " [1.0959e-01 0.0000e+00 1.1930e+01 ... 2.1000e+01 3.9345e+02 6.4800e+00]\n",
      " [4.7410e-02 0.0000e+00 1.1930e+01 ... 2.1000e+01 3.9690e+02 7.8800e+00]] \n",
      " x_data shape: (506, 13) \n",
      "y_data:\n",
      " [24.  21.6 34.7 33.4 36.2 28.7 22.9 27.1 16.5 18.9 15.  18.9 21.7 20.4\n",
      " 18.2 19.9 23.1 17.5 20.2 18.2 13.6 19.6 15.2 14.5 15.6 13.9 16.6 14.8\n",
      " 18.4 21.  12.7 14.5 13.2 13.1 13.5 18.9 20.  21.  24.7 30.8 34.9 26.6\n",
      " 25.3 24.7 21.2 19.3 20.  16.6 14.4 19.4 19.7 20.5 25.  23.4 18.9 35.4\n",
      " 24.7 31.6 23.3 19.6 18.7 16.  22.2 25.  33.  23.5 19.4 22.  17.4 20.9\n",
      " 24.2 21.7 22.8 23.4 24.1 21.4 20.  20.8 21.2 20.3 28.  23.9 24.8 22.9\n",
      " 23.9 26.6 22.5 22.2 23.6 28.7 22.6 22.  22.9 25.  20.6 28.4 21.4 38.7\n",
      " 43.8 33.2 27.5 26.5 18.6 19.3 20.1 19.5 19.5 20.4 19.8 19.4 21.7 22.8\n",
      " 18.8 18.7 18.5 18.3 21.2 19.2 20.4 19.3 22.  20.3 20.5 17.3 18.8 21.4\n",
      " 15.7 16.2 18.  14.3 19.2 19.6 23.  18.4 15.6 18.1 17.4 17.1 13.3 17.8\n",
      " 14.  14.4 13.4 15.6 11.8 13.8 15.6 14.6 17.8 15.4 21.5 19.6 15.3 19.4\n",
      " 17.  15.6 13.1 41.3 24.3 23.3 27.  50.  50.  50.  22.7 25.  50.  23.8\n",
      " 23.8 22.3 17.4 19.1 23.1 23.6 22.6 29.4 23.2 24.6 29.9 37.2 39.8 36.2\n",
      " 37.9 32.5 26.4 29.6 50.  32.  29.8 34.9 37.  30.5 36.4 31.1 29.1 50.\n",
      " 33.3 30.3 34.6 34.9 32.9 24.1 42.3 48.5 50.  22.6 24.4 22.5 24.4 20.\n",
      " 21.7 19.3 22.4 28.1 23.7 25.  23.3 28.7 21.5 23.  26.7 21.7 27.5 30.1\n",
      " 44.8 50.  37.6 31.6 46.7 31.5 24.3 31.7 41.7 48.3 29.  24.  25.1 31.5\n",
      " 23.7 23.3 22.  20.1 22.2 23.7 17.6 18.5 24.3 20.5 24.5 26.2 24.4 24.8\n",
      " 29.6 42.8 21.9 20.9 44.  50.  36.  30.1 33.8 43.1 48.8 31.  36.5 22.8\n",
      " 30.7 50.  43.5 20.7 21.1 25.2 24.4 35.2 32.4 32.  33.2 33.1 29.1 35.1\n",
      " 45.4 35.4 46.  50.  32.2 22.  20.1 23.2 22.3 24.8 28.5 37.3 27.9 23.9\n",
      " 21.7 28.6 27.1 20.3 22.5 29.  24.8 22.  26.4 33.1 36.1 28.4 33.4 28.2\n",
      " 22.8 20.3 16.1 22.1 19.4 21.6 23.8 16.2 17.8 19.8 23.1 21.  23.8 23.1\n",
      " 20.4 18.5 25.  24.6 23.  22.2 19.3 22.6 19.8 17.1 19.4 22.2 20.7 21.1\n",
      " 19.5 18.5 20.6 19.  18.7 32.7 16.5 23.9 31.2 17.5 17.2 23.1 24.5 26.6\n",
      " 22.9 24.1 18.6 30.1 18.2 20.6 17.8 21.7 22.7 22.6 25.  19.9 20.8 16.8\n",
      " 21.9 27.5 21.9 23.1 50.  50.  50.  50.  50.  13.8 13.8 15.  13.9 13.3\n",
      " 13.1 10.2 10.4 10.9 11.3 12.3  8.8  7.2 10.5  7.4 10.2 11.5 15.1 23.2\n",
      "  9.7 13.8 12.7 13.1 12.5  8.5  5.   6.3  5.6  7.2 12.1  8.3  8.5  5.\n",
      " 11.9 27.9 17.2 27.5 15.  17.2 17.9 16.3  7.   7.2  7.5 10.4  8.8  8.4\n",
      " 16.7 14.2 20.8 13.4 11.7  8.3 10.2 10.9 11.   9.5 14.5 14.1 16.1 14.3\n",
      " 11.7 13.4  9.6  8.7  8.4 12.8 10.5 17.1 18.4 15.4 10.8 11.8 14.9 12.6\n",
      " 14.1 13.  13.4 15.2 16.1 17.8 14.9 14.1 12.7 13.5 14.9 20.  16.4 17.7\n",
      " 19.5 20.2 21.4 19.9 19.  19.1 19.1 20.1 19.9 19.6 23.2 29.8 13.8 13.3\n",
      " 16.7 12.  14.6 21.4 23.  23.7 25.  21.8 20.6 21.2 19.1 20.6 15.2  7.\n",
      "  8.1 13.6 20.1 21.8 24.5 23.1 19.7 18.3 21.2 17.5 16.8 22.4 20.6 23.9\n",
      " 22.  11.9] \n",
      " y_data shape: (506,)\n"
     ]
    }
   ],
   "source": [
    "print('x_data:\\n', x_data, '\\n x_data shape:', x_data.shape,\n",
    "      '\\ny_data:\\n', y_data, '\\n y_data shape:', y_data.shape)"
   ]
  },
  {
   "cell_type": "markdown",
   "metadata": {},
   "source": [
    "### sklearn自动读取"
   ]
  },
  {
   "cell_type": "markdown",
   "metadata": {},
   "source": [
    "利用`sklearn`中的`load_boston`直接获取"
   ]
  },
  {
   "cell_type": "code",
   "execution_count": 6,
   "metadata": {},
   "outputs": [],
   "source": [
    "from sklearn.datasets import load_boston\n",
    "\n",
    "boston = load_boston()"
   ]
  },
  {
   "cell_type": "markdown",
   "metadata": {},
   "source": [
    "获取数据键"
   ]
  },
  {
   "cell_type": "code",
   "execution_count": 7,
   "metadata": {},
   "outputs": [
    {
     "data": {
      "text/plain": [
       "dict_keys(['data', 'target', 'feature_names', 'DESCR', 'filename'])"
      ]
     },
     "execution_count": 7,
     "metadata": {},
     "output_type": "execute_result"
    }
   ],
   "source": [
    "boston.keys()"
   ]
  },
  {
   "cell_type": "markdown",
   "metadata": {},
   "source": [
    "获取训练数据"
   ]
  },
  {
   "cell_type": "code",
   "execution_count": 8,
   "metadata": {},
   "outputs": [
    {
     "data": {
      "text/plain": [
       "(506, 13)"
      ]
     },
     "execution_count": 8,
     "metadata": {},
     "output_type": "execute_result"
    }
   ],
   "source": [
    "boston['data'].shape"
   ]
  },
  {
   "cell_type": "markdown",
   "metadata": {},
   "source": [
    "获取特征名"
   ]
  },
  {
   "cell_type": "code",
   "execution_count": 9,
   "metadata": {},
   "outputs": [
    {
     "data": {
      "text/plain": [
       "array(['CRIM', 'ZN', 'INDUS', 'CHAS', 'NOX', 'RM', 'AGE', 'DIS', 'RAD',\n",
       "       'TAX', 'PTRATIO', 'B', 'LSTAT'], dtype='<U7')"
      ]
     },
     "execution_count": 9,
     "metadata": {},
     "output_type": "execute_result"
    }
   ],
   "source": [
    "boston['feature_names']"
   ]
  },
  {
   "cell_type": "markdown",
   "metadata": {},
   "source": [
    "获取一则训练数据"
   ]
  },
  {
   "cell_type": "code",
   "execution_count": 10,
   "metadata": {},
   "outputs": [
    {
     "data": {
      "text/plain": [
       "array([6.320e-03, 1.800e+01, 2.310e+00, 0.000e+00, 5.380e-01, 6.575e+00,\n",
       "       6.520e+01, 4.090e+00, 1.000e+00, 2.960e+02, 1.530e+01, 3.969e+02,\n",
       "       4.980e+00])"
      ]
     },
     "execution_count": 10,
     "metadata": {},
     "output_type": "execute_result"
    }
   ],
   "source": [
    "boston['data'][0]"
   ]
  },
  {
   "cell_type": "markdown",
   "metadata": {},
   "source": [
    "获取标签数据`(GroundTruth)`"
   ]
  },
  {
   "cell_type": "code",
   "execution_count": 11,
   "metadata": {},
   "outputs": [
    {
     "data": {
      "text/plain": [
       "array([24. , 21.6, 34.7, 33.4, 36.2, 28.7, 22.9, 27.1, 16.5, 18.9, 15. ,\n",
       "       18.9, 21.7, 20.4, 18.2, 19.9, 23.1, 17.5, 20.2, 18.2, 13.6, 19.6,\n",
       "       15.2, 14.5, 15.6, 13.9, 16.6, 14.8, 18.4, 21. , 12.7, 14.5, 13.2,\n",
       "       13.1, 13.5, 18.9, 20. , 21. , 24.7, 30.8, 34.9, 26.6, 25.3, 24.7,\n",
       "       21.2, 19.3, 20. , 16.6, 14.4, 19.4, 19.7, 20.5, 25. , 23.4, 18.9,\n",
       "       35.4, 24.7, 31.6, 23.3, 19.6, 18.7, 16. , 22.2, 25. , 33. , 23.5,\n",
       "       19.4, 22. , 17.4, 20.9, 24.2, 21.7, 22.8, 23.4, 24.1, 21.4, 20. ,\n",
       "       20.8, 21.2, 20.3, 28. , 23.9, 24.8, 22.9, 23.9, 26.6, 22.5, 22.2,\n",
       "       23.6, 28.7, 22.6, 22. , 22.9, 25. , 20.6, 28.4, 21.4, 38.7, 43.8,\n",
       "       33.2, 27.5, 26.5, 18.6, 19.3, 20.1, 19.5, 19.5, 20.4, 19.8, 19.4,\n",
       "       21.7, 22.8, 18.8, 18.7, 18.5, 18.3, 21.2, 19.2, 20.4, 19.3, 22. ,\n",
       "       20.3, 20.5, 17.3, 18.8, 21.4, 15.7, 16.2, 18. , 14.3, 19.2, 19.6,\n",
       "       23. , 18.4, 15.6, 18.1, 17.4, 17.1, 13.3, 17.8, 14. , 14.4, 13.4,\n",
       "       15.6, 11.8, 13.8, 15.6, 14.6, 17.8, 15.4, 21.5, 19.6, 15.3, 19.4,\n",
       "       17. , 15.6, 13.1, 41.3, 24.3, 23.3, 27. , 50. , 50. , 50. , 22.7,\n",
       "       25. , 50. , 23.8, 23.8, 22.3, 17.4, 19.1, 23.1, 23.6, 22.6, 29.4,\n",
       "       23.2, 24.6, 29.9, 37.2, 39.8, 36.2, 37.9, 32.5, 26.4, 29.6, 50. ,\n",
       "       32. , 29.8, 34.9, 37. , 30.5, 36.4, 31.1, 29.1, 50. , 33.3, 30.3,\n",
       "       34.6, 34.9, 32.9, 24.1, 42.3, 48.5, 50. , 22.6, 24.4, 22.5, 24.4,\n",
       "       20. , 21.7, 19.3, 22.4, 28.1, 23.7, 25. , 23.3, 28.7, 21.5, 23. ,\n",
       "       26.7, 21.7, 27.5, 30.1, 44.8, 50. , 37.6, 31.6, 46.7, 31.5, 24.3,\n",
       "       31.7, 41.7, 48.3, 29. , 24. , 25.1, 31.5, 23.7, 23.3, 22. , 20.1,\n",
       "       22.2, 23.7, 17.6, 18.5, 24.3, 20.5, 24.5, 26.2, 24.4, 24.8, 29.6,\n",
       "       42.8, 21.9, 20.9, 44. , 50. , 36. , 30.1, 33.8, 43.1, 48.8, 31. ,\n",
       "       36.5, 22.8, 30.7, 50. , 43.5, 20.7, 21.1, 25.2, 24.4, 35.2, 32.4,\n",
       "       32. , 33.2, 33.1, 29.1, 35.1, 45.4, 35.4, 46. , 50. , 32.2, 22. ,\n",
       "       20.1, 23.2, 22.3, 24.8, 28.5, 37.3, 27.9, 23.9, 21.7, 28.6, 27.1,\n",
       "       20.3, 22.5, 29. , 24.8, 22. , 26.4, 33.1, 36.1, 28.4, 33.4, 28.2,\n",
       "       22.8, 20.3, 16.1, 22.1, 19.4, 21.6, 23.8, 16.2, 17.8, 19.8, 23.1,\n",
       "       21. , 23.8, 23.1, 20.4, 18.5, 25. , 24.6, 23. , 22.2, 19.3, 22.6,\n",
       "       19.8, 17.1, 19.4, 22.2, 20.7, 21.1, 19.5, 18.5, 20.6, 19. , 18.7,\n",
       "       32.7, 16.5, 23.9, 31.2, 17.5, 17.2, 23.1, 24.5, 26.6, 22.9, 24.1,\n",
       "       18.6, 30.1, 18.2, 20.6, 17.8, 21.7, 22.7, 22.6, 25. , 19.9, 20.8,\n",
       "       16.8, 21.9, 27.5, 21.9, 23.1, 50. , 50. , 50. , 50. , 50. , 13.8,\n",
       "       13.8, 15. , 13.9, 13.3, 13.1, 10.2, 10.4, 10.9, 11.3, 12.3,  8.8,\n",
       "        7.2, 10.5,  7.4, 10.2, 11.5, 15.1, 23.2,  9.7, 13.8, 12.7, 13.1,\n",
       "       12.5,  8.5,  5. ,  6.3,  5.6,  7.2, 12.1,  8.3,  8.5,  5. , 11.9,\n",
       "       27.9, 17.2, 27.5, 15. , 17.2, 17.9, 16.3,  7. ,  7.2,  7.5, 10.4,\n",
       "        8.8,  8.4, 16.7, 14.2, 20.8, 13.4, 11.7,  8.3, 10.2, 10.9, 11. ,\n",
       "        9.5, 14.5, 14.1, 16.1, 14.3, 11.7, 13.4,  9.6,  8.7,  8.4, 12.8,\n",
       "       10.5, 17.1, 18.4, 15.4, 10.8, 11.8, 14.9, 12.6, 14.1, 13. , 13.4,\n",
       "       15.2, 16.1, 17.8, 14.9, 14.1, 12.7, 13.5, 14.9, 20. , 16.4, 17.7,\n",
       "       19.5, 20.2, 21.4, 19.9, 19. , 19.1, 19.1, 20.1, 19.9, 19.6, 23.2,\n",
       "       29.8, 13.8, 13.3, 16.7, 12. , 14.6, 21.4, 23. , 23.7, 25. , 21.8,\n",
       "       20.6, 21.2, 19.1, 20.6, 15.2,  7. ,  8.1, 13.6, 20.1, 21.8, 24.5,\n",
       "       23.1, 19.7, 18.3, 21.2, 17.5, 16.8, 22.4, 20.6, 23.9, 22. , 11.9])"
      ]
     },
     "execution_count": 11,
     "metadata": {},
     "output_type": "execute_result"
    }
   ],
   "source": [
    "boston['target']"
   ]
  },
  {
   "cell_type": "markdown",
   "metadata": {},
   "source": [
    "### 对比两种方式所获取数据"
   ]
  },
  {
   "cell_type": "markdown",
   "metadata": {},
   "source": [
    "对比训练数据是否相同"
   ]
  },
  {
   "cell_type": "code",
   "execution_count": 12,
   "metadata": {},
   "outputs": [
    {
     "data": {
      "text/plain": [
       "True"
      ]
     },
     "execution_count": 12,
     "metadata": {},
     "output_type": "execute_result"
    }
   ],
   "source": [
    "(x_data == boston['data']).all()"
   ]
  },
  {
   "cell_type": "markdown",
   "metadata": {},
   "source": [
    "对比标签数据`(GroundTruth)`是否相同"
   ]
  },
  {
   "cell_type": "code",
   "execution_count": 13,
   "metadata": {},
   "outputs": [
    {
     "data": {
      "text/plain": [
       "True"
      ]
     },
     "execution_count": 13,
     "metadata": {},
     "output_type": "execute_result"
    }
   ],
   "source": [
    "(y_data == boston['target']).all()"
   ]
  },
  {
   "cell_type": "markdown",
   "metadata": {},
   "source": [
    "## 训练阶段\n",
    "\n",
    "获取设备信息"
   ]
  },
  {
   "cell_type": "code",
   "execution_count": 14,
   "metadata": {},
   "outputs": [
    {
     "data": {
      "text/plain": [
       "device(type='cuda', index=0)"
      ]
     },
     "execution_count": 14,
     "metadata": {},
     "output_type": "execute_result"
    }
   ],
   "source": [
    "device = torch.device(\"cuda:0\" if torch.cuda.is_available() else \"cpu\")\n",
    "\n",
    "device"
   ]
  },
  {
   "cell_type": "markdown",
   "metadata": {},
   "source": [
    "构建模型"
   ]
  },
  {
   "cell_type": "code",
   "execution_count": 15,
   "metadata": {},
   "outputs": [],
   "source": [
    "class Net(nn.Module):\n",
    "    def __init__(self, input_num, hidden_num, output_num):\n",
    "        super(Net, self).__init__()\n",
    "        self.net = nn.Sequential(\n",
    "            nn.Linear(input_num, hidden_num),\n",
    "            nn.ReLU(),\n",
    "            nn.Linear(hidden_num, output_num),\n",
    "            nn.ReLU()\n",
    "        )\n",
    "\n",
    "    def forward(self, input):\n",
    "        return self.net(input)"
   ]
  },
  {
   "cell_type": "code",
   "execution_count": 16,
   "metadata": {},
   "outputs": [
    {
     "name": "stdout",
     "output_type": "stream",
     "text": [
      "----------------------------------------------------------------\n",
      "        Layer (type)               Output Shape         Param #\n",
      "================================================================\n",
      "            Linear-1                   [-1, 14]             196\n",
      "              ReLU-2                   [-1, 14]               0\n",
      "            Linear-3                    [-1, 1]              15\n",
      "              ReLU-4                    [-1, 1]               0\n",
      "================================================================\n",
      "Total params: 211\n",
      "Trainable params: 211\n",
      "Non-trainable params: 0\n",
      "----------------------------------------------------------------\n",
      "Input size (MB): 0.00\n",
      "Forward/backward pass size (MB): 0.00\n",
      "Params size (MB): 0.00\n",
      "Estimated Total Size (MB): 0.00\n",
      "----------------------------------------------------------------\n"
     ]
    }
   ],
   "source": [
    "net = Net(input_num=13, hidden_num=14, output_num=1).to(device)\n",
    "\n",
    "summary(net, input_size=(13,))"
   ]
  },
  {
   "cell_type": "markdown",
   "metadata": {},
   "source": [
    "使用`scale`进行归一化，使用`unsqueeze`整理维度"
   ]
  },
  {
   "cell_type": "code",
   "execution_count": 17,
   "metadata": {},
   "outputs": [],
   "source": [
    "x_data, y_data = torch.FloatTensor(scale(x_data)).to(device), torch.unsqueeze(torch.FloatTensor(y_data), dim=1).to(device)"
   ]
  },
  {
   "cell_type": "markdown",
   "metadata": {},
   "source": [
    "划分训练集及验证集"
   ]
  },
  {
   "cell_type": "code",
   "execution_count": 18,
   "metadata": {},
   "outputs": [],
   "source": [
    "train_x, train_y = x_data[0:400, :], y_data[0:400]\n",
    "valid_x, valid_y = x_data[400:, :], y_data[400:]"
   ]
  },
  {
   "cell_type": "markdown",
   "metadata": {},
   "source": [
    "设置超参数"
   ]
  },
  {
   "cell_type": "code",
   "execution_count": 19,
   "metadata": {},
   "outputs": [],
   "source": [
    "epochs = 200\n",
    "learning_rate = 0.001\n",
    "batch_size = 10\n",
    "total_step = int(train_x.shape[0] / batch_size)"
   ]
  },
  {
   "cell_type": "markdown",
   "metadata": {},
   "source": [
    "定义优化器以及损失函数"
   ]
  },
  {
   "cell_type": "code",
   "execution_count": 20,
   "metadata": {},
   "outputs": [],
   "source": [
    "optimizer = torch.optim.Adam(net.parameters(), lr=learning_rate)\n",
    "\n",
    "loss_func = torch.nn.MSELoss()"
   ]
  },
  {
   "cell_type": "markdown",
   "metadata": {},
   "source": [
    "定义参数重置函数，保证每次重新执行`for循环`时从`零`开始训练"
   ]
  },
  {
   "cell_type": "code",
   "execution_count": 21,
   "metadata": {},
   "outputs": [],
   "source": [
    "def weight_reset(m):\n",
    "    if isinstance(m, nn.Conv2d) or isinstance(m, nn.Linear):\n",
    "        m.reset_parameters()"
   ]
  },
  {
   "cell_type": "code",
   "execution_count": 22,
   "metadata": {},
   "outputs": [
    {
     "name": "stdout",
     "output_type": "stream",
     "text": [
      "epoch=  1/200, train_loss=653.8335, valid_loss=264.7458\n",
      "epoch=  2/200, train_loss=646.1258, valid_loss=261.1905\n",
      "epoch=  3/200, train_loss=637.3733, valid_loss=257.5962\n",
      "epoch=  4/200, train_loss=627.2027, valid_loss=254.1343\n",
      "epoch=  5/200, train_loss=615.4006, valid_loss=250.7759\n",
      "epoch=  6/200, train_loss=601.7940, valid_loss=247.1643\n",
      "epoch=  7/200, train_loss=586.2170, valid_loss=243.3159\n",
      "epoch=  8/200, train_loss=568.6688, valid_loss=239.3569\n",
      "epoch=  9/200, train_loss=549.4550, valid_loss=235.2637\n",
      "epoch= 10/200, train_loss=529.1013, valid_loss=231.0793\n",
      "epoch= 11/200, train_loss=508.2026, valid_loss=226.8463\n",
      "epoch= 12/200, train_loss=487.3250, valid_loss=222.6290\n",
      "epoch= 13/200, train_loss=466.9410, valid_loss=218.4012\n",
      "epoch= 14/200, train_loss=447.4058, valid_loss=214.2304\n",
      "epoch= 15/200, train_loss=428.9496, valid_loss=210.0949\n",
      "epoch= 16/200, train_loss=411.6878, valid_loss=206.0021\n",
      "epoch= 17/200, train_loss=395.6431, valid_loss=201.9192\n",
      "epoch= 18/200, train_loss=380.7723, valid_loss=197.8069\n",
      "epoch= 19/200, train_loss=366.9952, valid_loss=193.6523\n",
      "epoch= 20/200, train_loss=354.2150, valid_loss=189.4650\n",
      "epoch= 21/200, train_loss=342.3327, valid_loss=185.2163\n",
      "epoch= 22/200, train_loss=331.2564, valid_loss=180.8608\n",
      "epoch= 23/200, train_loss=320.9048, valid_loss=176.4688\n",
      "epoch= 24/200, train_loss=311.2066, valid_loss=172.0256\n",
      "epoch= 25/200, train_loss=302.0973, valid_loss=167.5255\n",
      "epoch= 26/200, train_loss=293.5207, valid_loss=162.9377\n",
      "epoch= 27/200, train_loss=285.4291, valid_loss=158.3460\n",
      "epoch= 28/200, train_loss=277.7819, valid_loss=153.7557\n",
      "epoch= 29/200, train_loss=270.5421, valid_loss=149.0751\n",
      "epoch= 30/200, train_loss=263.6786, valid_loss=144.4368\n",
      "epoch= 31/200, train_loss=257.1645, valid_loss=139.8693\n",
      "epoch= 32/200, train_loss=250.9753, valid_loss=135.3688\n",
      "epoch= 33/200, train_loss=245.0890, valid_loss=130.9311\n",
      "epoch= 34/200, train_loss=239.4851, valid_loss=126.5767\n",
      "epoch= 35/200, train_loss=234.1448, valid_loss=122.3059\n",
      "epoch= 36/200, train_loss=229.0510, valid_loss=118.1389\n",
      "epoch= 37/200, train_loss=224.1873, valid_loss=114.0779\n",
      "epoch= 38/200, train_loss=219.5394, valid_loss=110.1218\n",
      "epoch= 39/200, train_loss=215.0929, valid_loss=106.2563\n",
      "epoch= 40/200, train_loss=210.8351, valid_loss=102.4918\n",
      "epoch= 41/200, train_loss=206.7545, valid_loss=98.8480\n",
      "epoch= 42/200, train_loss=202.8404, valid_loss=95.3329\n",
      "epoch= 43/200, train_loss=199.0827, valid_loss=91.9507\n",
      "epoch= 44/200, train_loss=195.4718, valid_loss=88.6733\n",
      "epoch= 45/200, train_loss=191.9992, valid_loss=85.5363\n",
      "epoch= 46/200, train_loss=188.6573, valid_loss=82.5708\n",
      "epoch= 47/200, train_loss=185.4388, valid_loss=79.7396\n",
      "epoch= 48/200, train_loss=182.3372, valid_loss=77.0336\n",
      "epoch= 49/200, train_loss=179.3457, valid_loss=74.4422\n",
      "epoch= 50/200, train_loss=176.4587, valid_loss=71.9655\n",
      "epoch= 51/200, train_loss=173.6710, valid_loss=69.6344\n",
      "epoch= 52/200, train_loss=170.9775, valid_loss=67.4190\n",
      "epoch= 53/200, train_loss=168.3738, valid_loss=65.3237\n",
      "epoch= 54/200, train_loss=165.8557, valid_loss=63.3563\n",
      "epoch= 55/200, train_loss=163.4193, valid_loss=61.5150\n",
      "epoch= 56/200, train_loss=161.0606, valid_loss=59.7783\n",
      "epoch= 57/200, train_loss=158.7763, valid_loss=58.1381\n",
      "epoch= 58/200, train_loss=156.5629, valid_loss=56.5981\n",
      "epoch= 59/200, train_loss=154.4173, valid_loss=55.1689\n",
      "epoch= 60/200, train_loss=152.3365, valid_loss=53.8387\n",
      "epoch= 61/200, train_loss=150.3176, valid_loss=52.6055\n",
      "epoch= 62/200, train_loss=148.3580, valid_loss=51.4569\n",
      "epoch= 63/200, train_loss=146.4552, valid_loss=50.3662\n",
      "epoch= 64/200, train_loss=144.6068, valid_loss=49.3415\n",
      "epoch= 65/200, train_loss=142.8103, valid_loss=48.3855\n",
      "epoch= 66/200, train_loss=141.0637, valid_loss=47.4942\n",
      "epoch= 67/200, train_loss=139.3649, valid_loss=46.6642\n",
      "epoch= 68/200, train_loss=137.7120, valid_loss=45.8775\n",
      "epoch= 69/200, train_loss=136.1032, valid_loss=45.1322\n",
      "epoch= 70/200, train_loss=134.5367, valid_loss=44.4304\n",
      "epoch= 71/200, train_loss=133.0110, valid_loss=43.7672\n",
      "epoch= 72/200, train_loss=131.5243, valid_loss=43.1373\n",
      "epoch= 73/200, train_loss=130.0752, valid_loss=42.5385\n",
      "epoch= 74/200, train_loss=128.6622, valid_loss=41.9730\n",
      "epoch= 75/200, train_loss=127.2841, valid_loss=41.4379\n",
      "epoch= 76/200, train_loss=125.9394, valid_loss=40.9172\n",
      "epoch= 77/200, train_loss=124.6270, valid_loss=40.4211\n",
      "epoch= 78/200, train_loss=123.3457, valid_loss=39.9504\n",
      "epoch= 79/200, train_loss=122.0943, valid_loss=39.5032\n",
      "epoch= 80/200, train_loss=120.8719, valid_loss=39.0757\n",
      "epoch= 81/200, train_loss=119.6774, valid_loss=38.6657\n",
      "epoch= 82/200, train_loss=118.5099, valid_loss=38.2688\n",
      "epoch= 83/200, train_loss=117.3683, valid_loss=37.8800\n",
      "epoch= 84/200, train_loss=116.2517, valid_loss=37.4748\n",
      "epoch= 85/200, train_loss=115.1591, valid_loss=37.0679\n",
      "epoch= 86/200, train_loss=114.0897, valid_loss=36.6539\n",
      "epoch= 87/200, train_loss=113.0426, valid_loss=36.2496\n",
      "epoch= 88/200, train_loss=112.0172, valid_loss=35.8508\n",
      "epoch= 89/200, train_loss=111.0127, valid_loss=35.4614\n",
      "epoch= 90/200, train_loss=110.0286, valid_loss=35.0808\n",
      "epoch= 91/200, train_loss=109.0643, valid_loss=34.7108\n",
      "epoch= 92/200, train_loss=108.1190, valid_loss=34.3596\n",
      "epoch= 93/200, train_loss=107.1924, valid_loss=34.0163\n",
      "epoch= 94/200, train_loss=106.2837, valid_loss=33.6744\n",
      "epoch= 95/200, train_loss=105.3925, valid_loss=33.3379\n",
      "epoch= 96/200, train_loss=104.5183, valid_loss=33.0144\n",
      "epoch= 97/200, train_loss=103.6606, valid_loss=32.7064\n",
      "epoch= 98/200, train_loss=102.8189, valid_loss=32.4066\n",
      "epoch= 99/200, train_loss=101.9928, valid_loss=32.1160\n",
      "epoch=100/200, train_loss=101.1818, valid_loss=31.8319\n",
      "epoch=101/200, train_loss=100.3855, valid_loss=31.5553\n",
      "epoch=102/200, train_loss=99.6035, valid_loss=31.2802\n",
      "epoch=103/200, train_loss=98.8352, valid_loss=31.0127\n",
      "epoch=104/200, train_loss=98.0804, valid_loss=30.7451\n",
      "epoch=105/200, train_loss=97.3387, valid_loss=30.4818\n",
      "epoch=106/200, train_loss=96.6097, valid_loss=30.2167\n",
      "epoch=107/200, train_loss=95.8930, valid_loss=29.9559\n",
      "epoch=108/200, train_loss=95.1883, valid_loss=29.6718\n",
      "epoch=109/200, train_loss=94.4952, valid_loss=29.3885\n",
      "epoch=110/200, train_loss=93.8133, valid_loss=29.1071\n",
      "epoch=111/200, train_loss=93.1425, valid_loss=28.8231\n",
      "epoch=112/200, train_loss=92.4823, valid_loss=28.5388\n",
      "epoch=113/200, train_loss=91.8326, valid_loss=28.2522\n",
      "epoch=114/200, train_loss=91.1930, valid_loss=27.9567\n",
      "epoch=115/200, train_loss=90.5634, valid_loss=27.6600\n",
      "epoch=116/200, train_loss=89.9435, valid_loss=27.3764\n",
      "epoch=117/200, train_loss=89.3331, valid_loss=27.0741\n",
      "epoch=118/200, train_loss=88.7319, valid_loss=26.7902\n",
      "epoch=119/200, train_loss=88.1398, valid_loss=26.5111\n",
      "epoch=120/200, train_loss=87.5564, valid_loss=26.2345\n",
      "epoch=121/200, train_loss=86.9818, valid_loss=25.9627\n",
      "epoch=122/200, train_loss=86.4155, valid_loss=25.6875\n",
      "epoch=123/200, train_loss=85.8574, valid_loss=25.4191\n",
      "epoch=124/200, train_loss=85.3074, valid_loss=25.1530\n",
      "epoch=125/200, train_loss=84.7653, valid_loss=24.8944\n",
      "epoch=126/200, train_loss=84.2308, valid_loss=24.6428\n",
      "epoch=127/200, train_loss=83.7039, valid_loss=24.3926\n",
      "epoch=128/200, train_loss=83.1844, valid_loss=24.1466\n",
      "epoch=129/200, train_loss=82.6721, valid_loss=23.9132\n",
      "epoch=130/200, train_loss=82.1668, valid_loss=23.6863\n",
      "epoch=131/200, train_loss=81.6684, valid_loss=23.4701\n",
      "epoch=132/200, train_loss=81.1767, valid_loss=23.2651\n",
      "epoch=133/200, train_loss=80.6916, valid_loss=23.0689\n",
      "epoch=134/200, train_loss=80.2130, valid_loss=22.8830\n",
      "epoch=135/200, train_loss=79.7406, valid_loss=22.7044\n",
      "epoch=136/200, train_loss=79.2744, valid_loss=22.5195\n",
      "epoch=137/200, train_loss=78.8141, valid_loss=22.3477\n",
      "epoch=138/200, train_loss=78.3598, valid_loss=22.1780\n",
      "epoch=139/200, train_loss=77.9112, valid_loss=22.0128\n",
      "epoch=140/200, train_loss=77.4682, valid_loss=21.8514\n",
      "epoch=141/200, train_loss=77.0306, valid_loss=21.6897\n",
      "epoch=142/200, train_loss=76.5985, valid_loss=21.5269\n",
      "epoch=143/200, train_loss=76.1716, valid_loss=21.3739\n",
      "epoch=144/200, train_loss=75.7499, valid_loss=21.2184\n",
      "epoch=145/200, train_loss=75.3332, valid_loss=21.0782\n",
      "epoch=146/200, train_loss=74.9215, valid_loss=20.9394\n",
      "epoch=147/200, train_loss=74.5147, valid_loss=20.8092\n",
      "epoch=148/200, train_loss=74.1127, valid_loss=20.6707\n",
      "epoch=149/200, train_loss=73.7153, valid_loss=20.5337\n",
      "epoch=150/200, train_loss=73.3226, valid_loss=20.4070\n",
      "epoch=151/200, train_loss=72.9343, valid_loss=20.2809\n"
     ]
    },
    {
     "name": "stdout",
     "output_type": "stream",
     "text": [
      "epoch=152/200, train_loss=72.5505, valid_loss=20.1537\n",
      "epoch=153/200, train_loss=72.1711, valid_loss=20.0341\n",
      "epoch=154/200, train_loss=71.7960, valid_loss=19.9127\n",
      "epoch=155/200, train_loss=71.4250, valid_loss=19.7979\n",
      "epoch=156/200, train_loss=71.0582, valid_loss=19.6895\n",
      "epoch=157/200, train_loss=70.6954, valid_loss=19.5795\n",
      "epoch=158/200, train_loss=70.3367, valid_loss=19.4688\n",
      "epoch=159/200, train_loss=69.9818, valid_loss=19.3671\n",
      "epoch=160/200, train_loss=69.6308, valid_loss=19.2645\n",
      "epoch=161/200, train_loss=69.2835, valid_loss=19.1555\n",
      "epoch=162/200, train_loss=68.9400, valid_loss=19.0412\n",
      "epoch=163/200, train_loss=68.6002, valid_loss=18.9264\n",
      "epoch=164/200, train_loss=68.2640, valid_loss=18.8084\n",
      "epoch=165/200, train_loss=67.9314, valid_loss=18.6911\n",
      "epoch=166/200, train_loss=67.6023, valid_loss=18.5703\n",
      "epoch=167/200, train_loss=67.2766, valid_loss=18.4557\n",
      "epoch=168/200, train_loss=66.9543, valid_loss=18.3440\n",
      "epoch=169/200, train_loss=66.6354, valid_loss=18.2383\n",
      "epoch=170/200, train_loss=66.3198, valid_loss=18.1319\n",
      "epoch=171/200, train_loss=66.0074, valid_loss=18.0278\n",
      "epoch=172/200, train_loss=65.6982, valid_loss=17.9227\n",
      "epoch=173/200, train_loss=65.3921, valid_loss=17.8272\n",
      "epoch=174/200, train_loss=65.0891, valid_loss=17.7288\n",
      "epoch=175/200, train_loss=64.7891, valid_loss=17.6289\n",
      "epoch=176/200, train_loss=64.4921, valid_loss=17.5255\n",
      "epoch=177/200, train_loss=64.1981, valid_loss=17.4263\n",
      "epoch=178/200, train_loss=63.9070, valid_loss=17.3302\n",
      "epoch=179/200, train_loss=63.6187, valid_loss=17.2371\n",
      "epoch=180/200, train_loss=63.3332, valid_loss=17.1503\n",
      "epoch=181/200, train_loss=63.0505, valid_loss=17.0682\n",
      "epoch=182/200, train_loss=62.7705, valid_loss=16.9865\n",
      "epoch=183/200, train_loss=62.4933, valid_loss=16.9087\n",
      "epoch=184/200, train_loss=62.2187, valid_loss=16.8324\n",
      "epoch=185/200, train_loss=61.9467, valid_loss=16.7581\n",
      "epoch=186/200, train_loss=61.6773, valid_loss=16.6836\n",
      "epoch=187/200, train_loss=61.4104, valid_loss=16.6133\n",
      "epoch=188/200, train_loss=61.1461, valid_loss=16.5458\n",
      "epoch=189/200, train_loss=60.8842, valid_loss=16.4785\n",
      "epoch=190/200, train_loss=60.6248, valid_loss=16.4171\n",
      "epoch=191/200, train_loss=60.3678, valid_loss=16.3581\n",
      "epoch=192/200, train_loss=60.1132, valid_loss=16.3041\n",
      "epoch=193/200, train_loss=59.8609, valid_loss=16.2524\n",
      "epoch=194/200, train_loss=59.6110, valid_loss=16.2020\n",
      "epoch=195/200, train_loss=59.3633, valid_loss=16.1552\n",
      "epoch=196/200, train_loss=59.1179, valid_loss=16.1132\n",
      "epoch=197/200, train_loss=58.8747, valid_loss=16.0770\n",
      "epoch=198/200, train_loss=58.6338, valid_loss=16.0435\n",
      "epoch=199/200, train_loss=58.3949, valid_loss=16.0146\n",
      "epoch=200/200, train_loss=58.1583, valid_loss=15.9905\n",
      "Wall time: 14.5 s\n"
     ]
    }
   ],
   "source": [
    "%%time\n",
    "\n",
    "net.apply(weight_reset)\n",
    "\n",
    "epoch_train_loss_value = []\n",
    "step_train_loss_value = []\n",
    "epoch_valid_loss_value = []\n",
    "\n",
    "for i in range(epochs):\n",
    "    for step in range(total_step):\n",
    "        xs = train_x[step * batch_size:(step + 1) * batch_size, :]\n",
    "        ys = train_y[step * batch_size:(step + 1) * batch_size]\n",
    "        prediction = net(xs)\n",
    "        loss = loss_func(prediction, ys)\n",
    "        optimizer.zero_grad()\n",
    "        loss.backward()\n",
    "        optimizer.step()\n",
    "        step_train_loss_value.append(loss.cpu().detach().numpy())\n",
    "    valid_loss = loss_func(net(valid_x), valid_y)\n",
    "    epoch_valid_loss_value.append(valid_loss)\n",
    "    epoch_train_loss_value.append(np.mean(step_train_loss_value))\n",
    "    print('epoch={:3d}/{:3d}, train_loss={:.4f}, valid_loss={:.4f}'.format(i + 1,\n",
    "                                                                    epochs,\n",
    "                                                                    np.mean(step_train_loss_value),\n",
    "                                                                    valid_loss))"
   ]
  },
  {
   "cell_type": "markdown",
   "metadata": {},
   "source": [
    "损失值可视化"
   ]
  },
  {
   "cell_type": "code",
   "execution_count": 23,
   "metadata": {},
   "outputs": [
    {
     "data": {
      "image/png": "[encoded data removed]",
      "text/plain": [
       "<Figure size 720x360 with 1 Axes>"
      ]
     },
     "metadata": {
      "needs_background": "light"
     },
     "output_type": "display_data"
    }
   ],
   "source": [
    "fig = plt.gcf()\n",
    "fig.set_size_inches(10, 5)\n",
    "\n",
    "plt.xlabel('Epochs', fontsize=15)\n",
    "plt.ylabel('Loss', fontsize=15)\n",
    "plt.plot(epoch_train_loss_value, 'blue', label='Train loss')\n",
    "plt.plot(epoch_valid_loss_value, 'red', label='Valid loss')\n",
    "plt.legend(loc='best')\n",
    "plt.title('Training and Validation loss', fontsize=15)\n",
    "plt.show()"
   ]
  },
  {
   "cell_type": "markdown",
   "metadata": {},
   "source": [
    "## 模型预测"
   ]
  },
  {
   "cell_type": "markdown",
   "metadata": {},
   "source": [
    "遍历valid数据，求出每一组的预测值"
   ]
  },
  {
   "cell_type": "code",
   "execution_count": 24,
   "metadata": {},
   "outputs": [],
   "source": [
    "prediction = []\n",
    "\n",
    "for i in range(valid_x.shape[0]):\n",
    "    prediction.append(net(valid_x[i, :]).item())"
   ]
  },
  {
   "cell_type": "markdown",
   "metadata": {},
   "source": [
    "预测值可视化，可以发现经过200轮的训练，预测值与真实值交融性很好，表明模型效果较好"
   ]
  },
  {
   "cell_type": "code",
   "execution_count": 25,
   "metadata": {},
   "outputs": [
    {
     "data": {
      "image/png": "[encoded data removed]",
      "text/plain": [
       "<Figure size 720x360 with 1 Axes>"
      ]
     },
     "metadata": {
      "needs_background": "light"
     },
     "output_type": "display_data"
    }
   ],
   "source": [
    "fig = plt.gcf()\n",
    "fig.set_size_inches(10, 5)\n",
    "\n",
    "myfont = FontProperties(fname='./font/msyh.ttc')\n",
    "\n",
    "plt.title('预测值与实际值', fontproperties=myfont, fontsize=15)\n",
    "plt.scatter(np.arange(len(prediction)), prediction, label='Prediction', s=20)\n",
    "plt.scatter(np.arange(len(prediction)), valid_y.cpu().numpy(), label='GroundTruth', s=20)\n",
    "plt.xlabel('数据/组', fontproperties=myfont, fontsize=15)\n",
    "plt.ylabel('房价', fontproperties=myfont, fontsize=15)\n",
    "plt.legend()\n",
    "\n",
    "plt.show()"
   ]
  }
 ],
 "metadata": {
  "kernelspec": {
   "display_name": "pytorch1.6.0",
   "language": "python",
   "name": "pytorch1.6.0"
  },
  "language_info": {
   "codemirror_mode": {
    "name": "ipython",
    "version": 3
   },
   "file_extension": ".py",
   "mimetype": "text/x-python",
   "name": "python",
   "nbconvert_exporter": "python",
   "pygments_lexer": "ipython3",
   "version": "3.6.2"
  },
  "toc": {
   "base_numbering": 1,
   "nav_menu": {},
   "number_sections": true,
   "sideBar": true,
   "skip_h1_title": false,
   "title_cell": "Table of Contents",
   "title_sidebar": "Contents",
   "toc_cell": false,
   "toc_position": {
    "height": "calc(100% - 180px)",
    "left": "10px",
    "top": "150px",
    "width": "307.2px"
   },
   "toc_section_display": true,
   "toc_window_display": true
  }
 },
 "nbformat": 4,
 "nbformat_minor": 4
}
